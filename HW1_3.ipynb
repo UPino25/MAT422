{
  "nbformat": 4,
  "nbformat_minor": 0,
  "metadata": {
    "colab": {
      "provenance": [],
      "authorship_tag": "ABX9TyMGCMe44qU2pKro1RswNobT",
      "include_colab_link": true
    },
    "kernelspec": {
      "name": "python3",
      "display_name": "Python 3"
    },
    "language_info": {
      "name": "python"
    }
  },
  "cells": [
    {
      "cell_type": "markdown",
      "metadata": {
        "id": "view-in-github",
        "colab_type": "text"
      },
      "source": [
        "<a href=\"https://colab.research.google.com/github/UPino25/MAT422/blob/main/HW1_3.ipynb\" target=\"_parent\"><img src=\"https://colab.research.google.com/assets/colab-badge.svg\" alt=\"Open In Colab\"/></a>"
      ]
    },
    {
      "cell_type": "code",
      "execution_count": null,
      "metadata": {
        "id": "H6aFi0g4vK19"
      },
      "outputs": [],
      "source": []
    },
    {
      "cell_type": "code",
      "source": [
        "import numpy as np\n",
        "\n",
        "## Real Eigenvalues and Eigenvectors\n",
        "NumPyArray6 = np.array([[2,4],[6,8]])\n",
        "eigenvalues, eigenvectors = np.linalg.eig(NumPyArray6)\n",
        "print(\"Eigenvalues: \", eigenvalues)\n",
        "print(\"Eigenvectors: \", eigenvectors)\n",
        "\n",
        "## No Real Eigenvalues\n",
        "NumPyArray7 = np.array([[0,-2],[2,0]])\n",
        "eigenvalues, eigenvectors = np.linalg.eig(NumPyArray7)\n",
        "print(\"Eigenvalues: \", eigenvalues)\n",
        "print(\"Eigenvectors: \", eigenvectors)"
      ],
      "metadata": {
        "colab": {
          "base_uri": "https://localhost:8080/"
        },
        "id": "XhY0GNOJvQAd",
        "outputId": "dee83b37-adb8-4331-915b-63ffb09b8072"
      },
      "execution_count": 1,
      "outputs": [
        {
          "output_type": "stream",
          "name": "stdout",
          "text": [
            "Eigenvalues:  [-0.74456265 10.74456265]\n",
            "Eigenvectors:  [[-0.82456484 -0.41597356]\n",
            " [ 0.56576746 -0.90937671]]\n",
            "Eigenvalues:  [0.+2.j 0.-2.j]\n",
            "Eigenvectors:  [[ 0.        -0.70710678j  0.        +0.70710678j]\n",
            " [-0.70710678+0.j         -0.70710678-0.j        ]]\n"
          ]
        }
      ]
    }
  ]
}