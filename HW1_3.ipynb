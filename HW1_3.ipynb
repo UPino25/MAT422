{
  "nbformat": 4,
  "nbformat_minor": 0,
  "metadata": {
    "colab": {
      "provenance": [],
      "authorship_tag": "ABX9TyNqmq+b7N1F/5pznixwIcif",
      "include_colab_link": true
    },
    "kernelspec": {
      "name": "python3",
      "display_name": "Python 3"
    },
    "language_info": {
      "name": "python"
    }
  },
  "cells": [
    {
      "cell_type": "markdown",
      "metadata": {
        "id": "view-in-github",
        "colab_type": "text"
      },
      "source": [
        "<a href=\"https://colab.research.google.com/github/UPino25/MAT422/blob/main/HW1_3.ipynb\" target=\"_parent\"><img src=\"https://colab.research.google.com/assets/colab-badge.svg\" alt=\"Open In Colab\"/></a>"
      ]
    },
    {
      "cell_type": "code",
      "execution_count": null,
      "metadata": {
        "id": "H6aFi0g4vK19"
      },
      "outputs": [],
      "source": []
    },
    {
      "cell_type": "code",
      "source": [],
      "metadata": {
        "id": "hLeTybxewR5C"
      },
      "execution_count": null,
      "outputs": []
    },
    {
      "cell_type": "code",
      "source": [
        "### Creating a basic array\n",
        "## Our first array\n",
        "import numpy as np\n",
        "List1 = [1,2,3,4,5,6,7]\n",
        "NumPyArray = np.array(List1)\n",
        "print(\"Array from List 1: \", NumPyArray)\n",
        "\n",
        "## Our second array\n",
        "List2 = [10, 11, 12, 13 ,14 ,15]\n",
        "NumPyArray2 = np.array(List2)\n",
        "print(\"Array from List 2: \", NumPyArray2)"
      ],
      "metadata": {
        "id": "_3CeeUlhwR_R",
        "outputId": "62cc8aa3-1852-42b2-8fa0-439fbe748acd",
        "colab": {
          "base_uri": "https://localhost:8080/"
        }
      },
      "execution_count": 2,
      "outputs": [
        {
          "output_type": "stream",
          "name": "stdout",
          "text": [
            "Array from List 1:  [1 2 3 4 5 6 7]\n",
            "Array from List 2:  [10 11 12 13 14 15]\n"
          ]
        }
      ]
    },
    {
      "cell_type": "code",
      "source": [
        "import numpy as np\n",
        "\n",
        "## Real Eigenvalues and Eigenvectors\n",
        "NumPyArray6 = np.array([[2,4],[6,8]])\n",
        "eigenvalues, eigenvectors = np.linalg.eig(NumPyArray6)\n",
        "print(\"Eigenvalues: \", eigenvalues)\n",
        "print(\"Eigenvectors: \", eigenvectors)\n",
        "\n",
        "## No Real Eigenvalues\n",
        "NumPyArray7 = np.array([[0,-2],[2,0]])\n",
        "eigenvalues, eigenvectors = np.linalg.eig(NumPyArray7)\n",
        "print(\"Eigenvalues: \", eigenvalues)\n",
        "print(\"Eigenvectors: \", eigenvectors)"
      ],
      "metadata": {
        "colab": {
          "base_uri": "https://localhost:8080/"
        },
        "id": "XhY0GNOJvQAd",
        "outputId": "dee83b37-adb8-4331-915b-63ffb09b8072"
      },
      "execution_count": null,
      "outputs": [
        {
          "output_type": "stream",
          "name": "stdout",
          "text": [
            "Eigenvalues:  [-0.74456265 10.74456265]\n",
            "Eigenvectors:  [[-0.82456484 -0.41597356]\n",
            " [ 0.56576746 -0.90937671]]\n",
            "Eigenvalues:  [0.+2.j 0.-2.j]\n",
            "Eigenvectors:  [[ 0.        -0.70710678j  0.        +0.70710678j]\n",
            " [-0.70710678+0.j         -0.70710678-0.j        ]]\n"
          ]
        }
      ]
    }
  ]
}