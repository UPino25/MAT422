{
  "nbformat": 4,
  "nbformat_minor": 0,
  "metadata": {
    "colab": {
      "provenance": [],
      "authorship_tag": "ABX9TyOhkOvZOoc3DRc9CklKWx7u",
      "include_colab_link": true
    },
    "kernelspec": {
      "name": "python3",
      "display_name": "Python 3"
    },
    "language_info": {
      "name": "python"
    }
  },
  "cells": [
    {
      "cell_type": "markdown",
      "metadata": {
        "id": "view-in-github",
        "colab_type": "text"
      },
      "source": [
        "<a href=\"https://colab.research.google.com/github/UPino25/MAT422/blob/main/UlisesPinoHW1.4.ipynb\" target=\"_parent\"><img src=\"https://colab.research.google.com/assets/colab-badge.svg\" alt=\"Open In Colab\"/></a>"
      ]
    },
    {
      "cell_type": "code",
      "execution_count": null,
      "metadata": {
        "id": "u_owUXP3a0be"
      },
      "outputs": [],
      "source": []
    },
    {
      "cell_type": "markdown",
      "source": [
        "# **Principle Component Analysis**\n",
        "\n",
        "\n",
        "1.   What is Principle Component Analysis?\n",
        "2.   1.4.1 Singular Value Decomposition\n",
        "3.   Examples of Singular Value Decomposition\n",
        "\n",
        "\n"
      ],
      "metadata": {
        "id": "7JYMkxeSbyE6"
      }
    },
    {
      "cell_type": "markdown",
      "source": [
        "## 1. What is Principle Component Analysis?\n",
        "\n",
        "Principle analysis is commonly used for dimensionally reduction by projecting data point onto only the first few principle components to obtain lower-dimensional data while preserving as much of the data's variation as possible. Its underlying mathematics can be explained with singular value decomposition.\n",
        "\n",
        "## 2. 1.4.1 Singular Value Decomposition\n",
        "Let A be an $m$ x $n$ matrix. Then $A^T$$A$ is symmetric and can be orthogonally diagonialized. Let $\\mathrm{v_1,...,v_2}$ be an orthonormal basis for $R^n$ consisting of eigenvectors of $A^T$$A$, and let $\\lambda_1,...,\\lambda_n$ be the associated eigenvalues of $A^T$$A$. Then for $1 \\le i \\le n,$\n",
        "\n",
        "\n",
        "$||Av_i||^2 = (Av_i)^TAv_i = v^T_iA^TAv_i$\n",
        "\n",
        "$= v^T_i(\\lambda v_i)$ since $\\mathrm{v_i}$ is an eigenvectors of $A_T$$A$\n",
        " (1.4.1)\n",
        "\n",
        "$ = \\lambda_i$ since $\\mathrm{v_i}$ is a unit vector\n",
        "\n",
        "So the eigenvalues of $A$ are all nonnegative. By renumbering, if necessary, we may assume that the eigenvalues are arranged that\n",
        "\n",
        "$$\\lambda_1 \\ge \\lambda_2 \\ge ... \\lambda_n \\ge 0.$$\n",
        "\n",
        "The singluar values of $A$ are the square roots of the eigenvalues of $A^TA,$ denoted by $\\sigma_1,...,\\sigma_n,$ and they are arranged in decreasing order. That is, $\\sigma_i = \\sqrt{\\lambda_i}$ for $1 \\le i \\le n.$ The singular values of A are the lengths of the vectors $Av_1,...,Av_n$.\n",
        "\n",
        "Theorem 1.4.1 If an $m$ x $n$ matrix $A$ has $r$ nonzero singular vales, $\\sigma_1,...,\\sigma_r \\ge 0$ with $\\sigma_{r+1} = ... = \\sigma_n = 0$, then the dimension of col($A$) $ = r$\n",
        "\n",
        "Theorem 1.4.2 (The Singular Value Decomposition) Let $A$ be an $m$ x $n$ matrix with the dimension of col($A$) $ = r.$ Then there exists an $m$ x $n$ matrix $\\sum,$ where the diagonal entries in $D$ are the first $r$ singular values of $A$ $\\sigma_1 \\ge \\sigma_2 \\ge ... \\sigma_r \\ge 0,$ and there exist an $m$ x $m$ orthogonal matrix $U$ and an $n$ x $n$ orthogonal matrix $V$ such that\n",
        "\n",
        "$$A = U \\sum V^T$$\n",
        "\n",
        "Any factorization $A = U \\sum V^T,$ with $U$ and $V$ orthhogonal and $\\sum,$ is called a singular value decomposition SVD of $A.$ The matrices $U$ and $V$ are not unique, but the diagonal entries of $\\sum$ are necessarily the singular values of $A$. The column of $U$ in such a decomposition are called left singular vectors of $A,$ and the column of $V$ are called right singular vectors of $A.$"
      ],
      "metadata": {
        "id": "J7J1baMSdkrR"
      }
    },
    {
      "cell_type": "markdown",
      "source": [
        "## Examples of Singular Value Decomposition"
      ],
      "metadata": {
        "id": "kRvvSrHO_GdB"
      }
    },
    {
      "cell_type": "code",
      "source": [
        "import numpy as np\n",
        "\n",
        "### Calculate the singular value decomposition with a 3D array\n",
        "\n",
        "## Our 3D Array\n",
        "NumPyArray = np.array([[1,4,7],[10,13,16],[19,22,25]])\n",
        "\n",
        "\n",
        "## This function allows us to get our Singlue Value Decomposition\n",
        "U,S,V = np.linalg.svd(NumPyArray, compute_uv = True)\n",
        "print(\"The result is: \")\n",
        "\n",
        "# This prints out our singular value\n",
        "print(\"S: \", S)\n",
        "\n",
        "print(\"U: \", U)\n",
        "\n",
        "print(\"V: \", V)\n",
        "\n",
        "\n"
      ],
      "metadata": {
        "colab": {
          "base_uri": "https://localhost:8080/"
        },
        "id": "tgn4FoT99kzC",
        "outputId": "cb5b7703-b395-44fd-acbd-2c57fc6422c4"
      },
      "execution_count": 4,
      "outputs": [
        {
          "output_type": "stream",
          "name": "stdout",
          "text": [
            "The result is: \n",
            "S:  [4.52568969e+01 3.57956491e+00 2.94855300e-15]\n",
            "U:  [[-0.16486479  0.8978602   0.40824829]\n",
            " [-0.50580579  0.27837716 -0.81649658]\n",
            " [-0.84674678 -0.34110589  0.40824829]]\n",
            "V:  [[-0.47089202 -0.57147894 -0.67206587]\n",
            " [-0.78204478 -0.08212888  0.61778702]\n",
            " [ 0.40824829 -0.81649658  0.40824829]]\n"
          ]
        }
      ]
    }
  ]
}