{
  "nbformat": 4,
  "nbformat_minor": 0,
  "metadata": {
    "colab": {
      "provenance": [],
      "authorship_tag": "ABX9TyMWTlycasTVtf5MB2ymTPeM",
      "include_colab_link": true
    },
    "kernelspec": {
      "name": "python3",
      "display_name": "Python 3"
    },
    "language_info": {
      "name": "python"
    }
  },
  "cells": [
    {
      "cell_type": "markdown",
      "metadata": {
        "id": "view-in-github",
        "colab_type": "text"
      },
      "source": [
        "<a href=\"https://colab.research.google.com/github/UPino25/MAT422/blob/main/UlisesPinoHW1_3.ipynb\" target=\"_parent\"><img src=\"https://colab.research.google.com/assets/colab-badge.svg\" alt=\"Open In Colab\"/></a>"
      ]
    },
    {
      "cell_type": "markdown",
      "source": [],
      "metadata": {
        "id": "ohnbIxs10GaJ"
      }
    },
    {
      "cell_type": "code",
      "execution_count": null,
      "metadata": {
        "id": "gEkve8syz3EQ"
      },
      "outputs": [],
      "source": []
    },
    {
      "cell_type": "markdown",
      "source": [
        "# **1.3 Linear** **Regression**\n",
        "\n",
        "1.   What is linear regression?\n",
        "2.   QR Decomposition\n",
        "\n",
        "\n"
      ],
      "metadata": {
        "id": "WrXN32M9z6Zi"
      }
    },
    {
      "cell_type": "markdown",
      "source": [
        "## 1. What is linear regression?\n",
        "\n",
        "\n",
        "*   Linear Regression is used frequently in practical applications because of\n",
        "its simplicty. The models depend linearly on their unknown parameteres and\n",
        "therefore are easier to fit than models which are non-linearly related to their\n",
        "parameters. As a result, the statistical properties of the resulting estimators\n",
        "are easier to determine.\n",
        "\n",
        "\n",
        "\n"
      ],
      "metadata": {
        "id": "M3PC5nvr9VST"
      }
    },
    {
      "cell_type": "markdown",
      "source": [
        "## 2. 1.3.1 QR Decomposition\n",
        "\n",
        "\n",
        "> QR decomposition is a useful procedure to solve the linear least squares problem. First we use the Gram-Schmidt algorithm to obtain an orthonormal basis span(a1,...,a2) from a linearly independent set of span(a1,...,a2). In order to derive QR decomposition, let\n",
        "\n",
        "\\begin{align}\n",
        "        A = \\begin{pmatrix}\n",
        "        \\ | &  & | \\\\\n",
        "        \\ a_1 &...& a_2 \\\\\n",
        "        \\ | &  & |\n",
        "        \\end{pmatrix}\n",
        "    \\end{align}\n",
        "\n",
        "and \\begin{align}\n",
        "        Q = \\begin{pmatrix}\n",
        "        \\ | &  & | \\\\\n",
        "        \\ q_1 &...& q_2 \\\\\n",
        "        \\ | &  & |\n",
        "        \\end{pmatrix}\n",
        "    \\end{align}\n",
        "\n",
        "where A, Q are *n x m* matrices. The output of the Gram-Schmidt algorithm above can then be written in the following compact form, known as QR decomposition in Figure 1.3\n",
        "\n",
        "$A = QR$.\n",
        "\n",
        "where column *i* of the *m X m* matrix *R* contains the coefficients of the linear combination of\n",
        "$q_j$'s that produces $a_i$. $Q$ is a $R^{nxm}$ matrix with $Q^T$$Q$ = $I_{mxm}$. It may be easier to verify $A = QR$ by\n",
        "\n",
        "$A^T$ = $R^T$$Q^T$\n",
        "\n",
        "By the proof of Gran-Schmidt,\n",
        "\\begin{align}\n",
        "a_i \\in span(q_1,...,q_2).\n",
        " \\end{align}\n",
        "So column i of $R$ has only zeros below the diagonal. Hence $R$ has a special structure: it is upper triangular.\n",
        "\n",
        "\n",
        "\n",
        "\n",
        "\n",
        "\n",
        "\n",
        "\n",
        "\n"
      ],
      "metadata": {
        "id": "hA6EibiVe3z5"
      }
    },
    {
      "cell_type": "code",
      "source": [
        "import numpy as np\n",
        "\n",
        "\n",
        "# Our First Matrix\n",
        "NumPyArray = np.array([[4,5],[8,10]])\n",
        "\n",
        "print(NumPyArray)\n",
        "\n",
        "# Find the Decomposition of the NumPyArray Matrix\n",
        "Q, R = np.linalg.qr(NumPyArray)\n",
        "\n",
        "print(\"Below is our QR decomposition: \")\n",
        "\n",
        "print('\\nQ:\\n', Q)\n",
        "print('\\nR:\\n', R)"
      ],
      "metadata": {
        "colab": {
          "base_uri": "https://localhost:8080/"
        },
        "id": "P4x3oACGJ0E7",
        "outputId": "68905ec3-6e52-4a1c-90d7-ee9d1e1d949a"
      },
      "execution_count": 12,
      "outputs": [
        {
          "output_type": "stream",
          "name": "stdout",
          "text": [
            "[[ 4  5]\n",
            " [ 8 10]]\n",
            "Below is our QR decomposition: \n",
            "\n",
            "Q:\n",
            " [[-0.4472136  -0.89442719]\n",
            " [-0.89442719  0.4472136 ]]\n",
            "\n",
            "R:\n",
            " [[ -8.94427191 -11.18033989]\n",
            " [  0.           0.        ]]\n"
          ]
        }
      ]
    }
  ]
}