{
  "nbformat": 4,
  "nbformat_minor": 0,
  "metadata": {
    "colab": {
      "provenance": []
    },
    "kernelspec": {
      "name": "python3",
      "display_name": "Python 3"
    },
    "language_info": {
      "name": "python"
    }
  },
  "cells": [
    {
      "cell_type": "code",
      "execution_count": null,
      "metadata": {
        "id": "iJf7REiiDWEk"
      },
      "outputs": [],
      "source": []
    },
    {
      "cell_type": "markdown",
      "source": [
        "Important Concepts:\n"
      ],
      "metadata": {
        "id": "DU96I0jlGivI"
      }
    },
    {
      "cell_type": "markdown",
      "source": [
        "# **1.2 Elements of Linear Algebra**"
      ],
      "metadata": {
        "id": "GM1D36CjDWvx"
      }
    },
    {
      "cell_type": "markdown",
      "source": [
        "The following from the list below will be covered:\n",
        "\n",
        "1. Intro to NumPy Arrays\n",
        "2. 1.2.4 Eigenvalues and Eigenvectors\n",
        "\n"
      ],
      "metadata": {
        "id": "Qr0OqWMJYW39"
      }
    },
    {
      "cell_type": "markdown",
      "source": [
        "## **Intro to Numpy Arrays**"
      ],
      "metadata": {
        "id": "qHAiuwZvX7P4"
      }
    },
    {
      "cell_type": "code",
      "source": [
        "# This allows us to access the NumPy library and import its functions.\n",
        "import numpy as np\n",
        "\n",
        "### Creating a basic array\n",
        "## Our first array\n",
        "List1 = [1,2,3,4,5,6,7]\n",
        "NumPyArray = np.array(List1)\n",
        "print(\"Array from List 1: \", NumPyArray)\n",
        "\n",
        "## Our second array\n",
        "List2 = [10, 11, 12, 13 ,14 ,15]\n",
        "NumPyArray2 = np.array(List2)\n",
        "print(\"Array from List 2: \", NumPyArray2)\n",
        "\n",
        "### Creating Array Elements\n",
        "## Using the zeros command\n",
        "np.zeros(7)\n",
        "print(np.zeros(7))\n",
        "\n",
        "### Creating a specific array with range of elements\n",
        "np.arange(1,11,2)\n",
        "\n",
        "### Accessing an array's element\n",
        "NumPyArray3 = np.array([[10,11,12],[21,22,23],[32,33,34]])\n",
        "\n",
        "## Accessing second element of NumPyArray3\n",
        "print(NumPyArray3[1])\n",
        "\n",
        "### Reshaping Arrays\n",
        "NumPyArray4 = np.arange(8)\n",
        "print(NumPyArray4)\n",
        "\n",
        "## Reshape NumPyArray4 into 4 by 3 array\n",
        "NumPyArray5 = NumPyArray4.reshape(4,2)\n",
        "print(NumPyArray5)\n",
        "\n"
      ],
      "metadata": {
        "colab": {
          "base_uri": "https://localhost:8080/"
        },
        "id": "3CUiHVrrR7YK",
        "outputId": "8f1d5046-87bb-4d7d-d78c-cb447a30c0c1"
      },
      "execution_count": 38,
      "outputs": [
        {
          "output_type": "stream",
          "name": "stdout",
          "text": [
            "Array from List 1:  [1 2 3 4 5 6 7]\n",
            "Array from List 2:  [10 11 12 13 14 15]\n",
            "[0. 0. 0. 0. 0. 0. 0.]\n",
            "[21 22 23]\n",
            "[0 1 2 3 4 5 6 7]\n",
            "[[0 1]\n",
            " [2 3]\n",
            " [4 5]\n",
            " [6 7]]\n"
          ]
        }
      ]
    },
    {
      "cell_type": "markdown",
      "source": [
        "##  **1.2.4 Eigenvalues and Eigenvectors**"
      ],
      "metadata": {
        "id": "45yxGFTmmlOa"
      }
    },
    {
      "cell_type": "markdown",
      "source": [
        "Eigenvalues and eigenvectors are key concepts in many applications. As before, we work on R^d.\n",
        "Definition 1.2.21 (Eigenvalues and eigenvectors):\n",
        "\n",
        "Let A ∈ R^dxd be a square matrix. Then λ ∈ R is an eigenvalue of A if there exists a nonzero vector x ≠ 0 such that\n",
        "\n",
        "A**x** = λ**x**. (1.2.3)\n",
        "\n",
        "The vector **x** is referred to as an eigenvector.\n",
        "\n"
      ],
      "metadata": {
        "id": "O1UzyoOqq7sf"
      }
    },
    {
      "cell_type": "code",
      "source": [
        "### Calculating our eigenvalues and eigenvectors\n",
        "import numpy as np\n",
        "\n",
        "## Real Eigenvalues and Eigenvectors\n",
        "NumPyArray6 = np.array([[2,4],[6,8]])\n",
        "eigenvalues, eigenvectors = np.linalg.eig(NumPyArray6)\n",
        "print(\"Eigenvalues: \", eigenvalues)\n",
        "print(\"Eigenvectors: \", eigenvectors)\n",
        "\n",
        "## No Real Eigenvalues\n",
        "NumPyArray7 = np.array([[0,-2],[2,0]])\n",
        "eigenvalues, eigenvectors = np.linalg.eig(NumPyArray7)\n",
        "print(\"Eigenvalues: \", eigenvalues)\n",
        "print(\"Eigenvectors: \", eigenvectors)"
      ],
      "metadata": {
        "colab": {
          "base_uri": "https://localhost:8080/"
        },
        "id": "WMst-GcUwG6o",
        "outputId": "510d0f73-0996-4783-e969-fb8ca5ae5ac4"
      },
      "execution_count": 45,
      "outputs": [
        {
          "output_type": "stream",
          "name": "stdout",
          "text": [
            "Eigenvalues:  [-0.74456265 10.74456265]\n",
            "Eigenvectors:  [[-0.82456484 -0.41597356]\n",
            " [ 0.56576746 -0.90937671]]\n",
            "Eigenvalues:  [0.+2.j 0.-2.j]\n",
            "Eigenvectors:  [[ 0.        -0.70710678j  0.        +0.70710678j]\n",
            " [-0.70710678+0.j         -0.70710678-0.j        ]]\n"
          ]
        }
      ]
    }
  ]
}