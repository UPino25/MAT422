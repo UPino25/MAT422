{
  "nbformat": 4,
  "nbformat_minor": 0,
  "metadata": {
    "colab": {
      "provenance": [],
      "authorship_tag": "ABX9TyM0aoi8M09FNPuAl5v7jHem",
      "include_colab_link": true
    },
    "kernelspec": {
      "name": "python3",
      "display_name": "Python 3"
    },
    "language_info": {
      "name": "python"
    }
  },
  "cells": [
    {
      "cell_type": "markdown",
      "metadata": {
        "id": "view-in-github",
        "colab_type": "text"
      },
      "source": [
        "<a href=\"https://colab.research.google.com/github/UPino25/MAT422/blob/main/UlisesPinoHW2.3.ipynb\" target=\"_parent\"><img src=\"https://colab.research.google.com/assets/colab-badge.svg\" alt=\"Open In Colab\"/></a>"
      ]
    },
    {
      "cell_type": "markdown",
      "source": [],
      "metadata": {
        "id": "6CezkVvnfOMG"
      }
    },
    {
      "cell_type": "markdown",
      "source": [
        "# **2.3 Independent Variables and Random Samples**\n",
        "## Important Concepts\n",
        "\n",
        "\n",
        "1.   2.3.1 Joint Probability Distributions\n",
        "2.   2.3.2 Correlation and Dependence\n",
        "\n",
        "\n",
        "## **2.3.1 Joint Probability Distributions**\n",
        "In real life, we are often interested in several random variables that are related to each other. Joint probability is the probability of two or more events happening together. A joint probability distribution shows a probability distribution for two (or more) random variables.\n",
        "\n",
        "## 2.3.1.1 Two Discrete Random Variables\n",
        "The probability mass function (pmf) of a single discrete random variable $X$\n",
        "can be extended to two variables $X,Y$ for describing how much probability\n",
        "mass is placed on each possible pair of values (x,y).\n",
        "\n",
        "Definition 2.3.1: Let $X$ and $Y$ be two discrete random variable’s defined on\n",
        "the sample space $S$ of an experiment. The joint probability mass function\n",
        "p(x,y) is defined for each pair of numbers (x,y) by\n",
        "$$p(x,y) = P(X=xandY=y)$$\n",
        "\n",
        "It must be the case that $p(x,y) \\ge 0$ and $\\sum_x\\sum_yp(x,y)=1.$\n",
        "\n",
        "The marginal distribution of a subset of a collection of random variables is the probability distribution of the variables contained in the subset without reference to the values of the other variable.\n",
        "\n",
        "Definition 2.3.2 The marginal probability mass function of $X,$ denoted by\n",
        "$p_X(x),$ is given by\n",
        "\n",
        "$$p_X(x)=\\sum_{y:p(x,y)>0} p(x,y)$$ for each possible value x. Similarly, the marginal probability mass function $Y$ is\n",
        "$$p_Y(y)=\\sum_{x:p(x,y)>0} p(x,y)$$ for each possible value y.\n",
        "\n",
        "\n",
        "##  **2.3.2 Correlation and Dependence**\n",
        "\n",
        "Correlations are useful because they can indicate a predictive relationship that can be exploited in practice. Covariance is a measure of the joint variability of two random variables.\n",
        "\n",
        "## 2.3.2.1 Correlation for Random Variables\n",
        "\n",
        "When two random variables $X$ and $Y$ are not independent, it is frequently of interest to assess how strongly they are related to one another.\n",
        "\n",
        "Definition 2.3.8 Let $X$ and $Y$ be jointly distributed random variables with pmf $p(x,y)$ or pdf $f(x,y)$ according to whether the variables are discrete or continuous. The convariance betweem two random variable's $X$ and $Y$ is\n",
        "\n",
        "$$Cov(X,Y)=E[(X-\\mu_X)(Y-\\mu_Y)]$$\n",
        "\n",
        "$=\\Biggl\\{$\n",
        "\n",
        "$$\\sum_x\\sum_y(x-\\mu_X)(y-\\mu_Y)p(x,y), \\text X,Y discrete$$\n",
        "\n",
        "$$\\int_{-\\infty}^{\\infty}\\int_{-\\infty}^{\\infty}(x-\\mu_X)(y-\\mu_Y)f(x,y)dxdy, \\text X,Y continous$$\n",
        "\n",
        "Figure 2.6 has three cases when the covriance is positive, negative, and near zero. Since $X-\\mu_X$ and $Y-\\mu_Y$ are the deviations of the two variables from their respective mean values, the covariance is the expected product of deviations. Note that\n",
        "$$Cov(X,X)=E\\Bigr[(X-\\mu_X)^2\\Bigr]=V(X).$$\n",
        "Correlation coefficient is the covariance of the two variables divided by the product of their standard deviations, which is a measure of linear correlation between two variables or sets of data.\n",
        "\n",
        "Definition 2.3.9 The correlation coefficient of $X$ and $Y,$ denoted by Corr$(X,Y), \\rho_{x,y},$ or just \\rho,$ is defined by\n",
        "\n",
        "$$\\rho_{X,Y}=\\frac{Cov(X,Y)}{\\sigma_X * \\sigma_Y}$$\n",
        "\n",
        "             \n",
        "\n",
        "\n",
        "\n",
        "\n",
        "\n",
        "\n",
        "\n",
        "\n",
        "\n",
        "\n",
        "\n",
        "\n",
        "\n",
        "\n",
        "\n",
        "\n",
        "\n",
        "\n",
        "\n"
      ],
      "metadata": {
        "id": "nhDzJbKUbTws"
      }
    },
    {
      "cell_type": "markdown",
      "source": [],
      "metadata": {
        "id": "YxSn0Oi6FZnc"
      }
    },
    {
      "cell_type": "code",
      "source": [
        "import numpy as np\n",
        "\n",
        "### Joint Probability Distributions\n",
        "\n"
      ],
      "metadata": {
        "colab": {
          "base_uri": "https://localhost:8080/",
          "height": 210
        },
        "id": "Ec2Yjz8DFcgU",
        "outputId": "60517cb2-3849-4ff1-b3a9-f2f7d2b1581f"
      },
      "execution_count": 7,
      "outputs": [
        {
          "output_type": "error",
          "ename": "NameError",
          "evalue": "ignored",
          "traceback": [
            "\u001b[0;31m---------------------------------------------------------------------------\u001b[0m",
            "\u001b[0;31mNameError\u001b[0m                                 Traceback (most recent call last)",
            "\u001b[0;32m<ipython-input-7-c06dd2bb33bf>\u001b[0m in \u001b[0;36m<cell line: 4>\u001b[0;34m()\u001b[0m\n\u001b[1;32m      2\u001b[0m \u001b[0;34m\u001b[0m\u001b[0m\n\u001b[1;32m      3\u001b[0m \u001b[0;31m### Joint Probability Distributions\u001b[0m\u001b[0;34m\u001b[0m\u001b[0;34m\u001b[0m\u001b[0m\n\u001b[0;32m----> 4\u001b[0;31m \u001b[0mdist\u001b[0m \u001b[0;34m=\u001b[0m \u001b[0mTable\u001b[0m\u001b[0;34m(\u001b[0m\u001b[0;34m)\u001b[0m\u001b[0;34m.\u001b[0m\u001b[0mdomain\u001b[0m\u001b[0;34m(\u001b[0m\u001b[0mmake_array\u001b[0m\u001b[0;34m(\u001b[0m\u001b[0;36m2\u001b[0m\u001b[0;34m,\u001b[0m \u001b[0;36m3\u001b[0m\u001b[0;34m)\u001b[0m\u001b[0;34m,\u001b[0m \u001b[0mnp\u001b[0m\u001b[0;34m.\u001b[0m\u001b[0marange\u001b[0m\u001b[0;34m(\u001b[0m\u001b[0;36m1\u001b[0m\u001b[0;34m,\u001b[0m \u001b[0;36m6\u001b[0m\u001b[0;34m,\u001b[0m \u001b[0;36m2\u001b[0m\u001b[0;34m)\u001b[0m\u001b[0;34m)\u001b[0m\u001b[0;34m\u001b[0m\u001b[0;34m\u001b[0m\u001b[0m\n\u001b[0m",
            "\u001b[0;31mNameError\u001b[0m: name 'Table' is not defined"
          ]
        }
      ]
    }
  ]
}