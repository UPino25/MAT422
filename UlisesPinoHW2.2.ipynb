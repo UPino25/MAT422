{
  "nbformat": 4,
  "nbformat_minor": 0,
  "metadata": {
    "colab": {
      "provenance": [],
      "authorship_tag": "ABX9TyOVJSmjtNySxijColJBp4yu",
      "include_colab_link": true
    },
    "kernelspec": {
      "name": "python3",
      "display_name": "Python 3"
    },
    "language_info": {
      "name": "python"
    }
  },
  "cells": [
    {
      "cell_type": "markdown",
      "metadata": {
        "id": "view-in-github",
        "colab_type": "text"
      },
      "source": [
        "<a href=\"https://colab.research.google.com/github/UPino25/MAT422/blob/main/UlisesPinoHW2_2.ipynb\" target=\"_parent\"><img src=\"https://colab.research.google.com/assets/colab-badge.svg\" alt=\"Open In Colab\"/></a>"
      ]
    },
    {
      "cell_type": "code",
      "execution_count": null,
      "metadata": {
        "id": "7_Ki_R-eb8Nz"
      },
      "outputs": [],
      "source": []
    },
    {
      "cell_type": "markdown",
      "source": [
        "# **Chapter 2 Probability**\n",
        "\n",
        "\n",
        "1.   2.1 Introduction\n",
        "2.   2.2 Probability Distribution\n",
        "3.   2.2.1 Probability Axioms\n",
        "      * 2.2.1.1 Sample Spaces and Events  \n",
        "\n",
        "\n",
        "\n",
        "\n",
        "\n",
        "\n",
        "\n",
        "\n"
      ],
      "metadata": {
        "id": "0r-N1a80c3u_"
      }
    },
    {
      "cell_type": "markdown",
      "source": [
        "## 2.1 Introduction\n",
        "Probability concerns the study of uncertainty and is often used to quanitfy uncertainty in data analysis and prediction, uncertainty in the data sciene and machine learning model. Probability is a key mathematical concept that is essential for modeling and understanding various model performance. Data science and machine learning rely heavily on probailistic models. This section will provide the necessary probability background for learning and understanding data science concepts. It will introduce the concept of probability, provide an overview of probability distribution, conditional probability, random variables, and describe how to compute expectation and variance. In addition, it includes maximum likelihood estimation. Further probability and their applications can be found in many references [6, 7, 3]."
      ],
      "metadata": {
        "id": "1mHXtr2Xf0wJ"
      }
    },
    {
      "cell_type": "markdown",
      "source": [
        "## 2.2 Probability Distribution\n",
        "\n",
        "A probability distribution is the mathematical function that gives the probabiliies of occurrence of different possible outcomes for an experiment. We will discuss both discrete and continuous probability distributions.\n",
        "\n",
        "## 2.2.1 Probability Axioms\n",
        "\n",
        "## > 2.2.1.1 Sample Spaces and Events\n",
        "\n",
        "> We start with an experiment which is any activity or process whose outcome is subject to uncertainty. In general, the word experiment may represent a planned or carefully controlled laboratory testing situation. In probability, we use it here in a much wider sense. Thus experiments that may be of interest include tossing a coin once or several times, selecting a card or cards from a deck, weighing a loaf of bread, ascertaining the commuting time from home to work on a particular morning, obtaining blood types from a group of individuals, or measuring blood pressues of human beings.\n",
        "\n",
        "\n",
        "> Definition 2.2.1: The sample space of an experiment, denoted by S, is the set of all possible outcomes of that experiment.\n",
        "\n",
        "> In probability, we will be interested not only in the indivual outcomes of $S$ but also in various collections of outcomes from $S$. In fact, it is often more meaningful to study collection of outcomes.\n",
        "\n",
        "> Definition 2.2.2: An event is any collection (subset) of outcomes contained in the sample space $S$. An event is simple if it consists of exactly one outcome and compound if it consists of more than one outcome.\n",
        "\n",
        "> Definition 2.2.3: Given an experiment and a sample space $S$, the probability distribution is a function which assign to each event $A$ a number $P(A)$, called the probability of the event $A$, which will give a precise measure of the chance that $A$ will occur. The probability assignments should satisfy the following axioms (basic properties) of probability.\n",
        "\n",
        "*   For any event $A,$ $1$ $\\ge$ $P(A)$ $\\ge 0$\n",
        "*   $P(S) = 1$\n",
        "*   If $A_1,$$A_2,$$A_3,$ is an infinite collection of disjoint events, then $$P(A_1\\cup A_2\\cup A_3\\cup...)= \\sum_{i=1}^{\\infty} P(A_i) $$\n",
        "*   For any event $A,P(A)+P(A')=1,$ from which $P(A)=1-P(A')$\n",
        "*   When events $A$ and $B$ are mutally exclusive, $P(A\\cup B)= P(A)+P(B)$\n",
        "*   For any two events $A$ and $B,$\n",
        "$$P(A\\cup B)=P(A)+P(B)-P(A\\cap B)$$\n",
        "\n",
        "Example 2.2.4: In a simply and yet common experiment consisting of N outcomes, it is reasonable to assign equal probabilities to all $N$ simple events. That is, if there are N equally likely outcomes, the probablity for each is $1/N.$ Now consider an event $A,$ with $N(A)$ denoting of outcomes contained in $A$ and we have\n",
        "$$P(A)=\\frac{N(A)}{N}$$\n",
        "\n",
        "\n",
        "\n",
        "\n",
        "\n",
        "\n",
        "\n",
        "\n",
        "\n",
        "\n",
        "\n",
        "\n",
        "\n",
        "\n",
        "\n",
        "\n",
        "\n",
        "\n",
        "\n",
        "\n",
        "\n",
        "\n",
        "\n",
        "\n",
        "\n",
        "\n",
        "\n"
      ],
      "metadata": {
        "id": "DqJ-hetDm5qT"
      }
    },
    {
      "cell_type": "code",
      "source": [
        "## Example 1: Calculating the outcome of a basic coin-flip problem\n",
        "import numpy as np\n",
        "import matplotlib.pyplot as plt\n",
        "\n",
        "# This returns one of two possible outcomes between heads and tails after\n",
        "# flipping a coin\n",
        "# 0 represents Heads and 1 represents tails\n",
        "RandomOutcome = np.random.randint(0,2)\n",
        "\n",
        "print(\"After flipping the coin, you get:\", RandomOutcome)\n",
        "\n",
        "## Example 2: If we flip the coin 10 times, what do we mostly get?\n",
        "\n",
        "RandomOutcome2 = np.random.choice([0,1], size = 10)\n",
        "\n",
        "print(\"After flipping the coin 10 times, we mostly get:\", RandomOutcome2)"
      ],
      "metadata": {
        "colab": {
          "base_uri": "https://localhost:8080/"
        },
        "id": "NQxngyP157dW",
        "outputId": "3c454f91-d505-49ae-f9bc-eb558c76a7ef"
      },
      "execution_count": 23,
      "outputs": [
        {
          "output_type": "stream",
          "name": "stdout",
          "text": [
            "After flipping the coin, you get: 1\n",
            "After flipping the coin 10 times, we mostly get: [1 1 1 1 0 0 0 0 1 1]\n"
          ]
        }
      ]
    }
  ]
}
