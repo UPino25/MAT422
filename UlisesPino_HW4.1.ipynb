{
  "nbformat": 4,
  "nbformat_minor": 0,
  "metadata": {
    "colab": {
      "provenance": [],
      "authorship_tag": "ABX9TyMjimDW/+vakg8eZNBIjb2g",
      "include_colab_link": true
    },
    "kernelspec": {
      "name": "python3",
      "display_name": "Python 3"
    },
    "language_info": {
      "name": "python"
    }
  },
  "cells": [
    {
      "cell_type": "markdown",
      "metadata": {
        "id": "view-in-github",
        "colab_type": "text"
      },
      "source": [
        "<a href=\"https://colab.research.google.com/github/UPino25/MAT422/blob/main/UlisesPino_HW4.1.ipynb\" target=\"_parent\"><img src=\"https://colab.research.google.com/assets/colab-badge.svg\" alt=\"Open In Colab\"/></a>"
      ]
    },
    {
      "cell_type": "markdown",
      "source": [
        "# 4.1 Network Analysis\n",
        "Important Concepts:\n",
        "\n",
        "1.   4.1.1 Graph Models\n",
        "2.   4.1.2 Lapacian Matrix\n",
        "\n",
        "Network analysis is essential in analysis of data not only because social\n",
        "networks create huge amount of data, but also many data have networkstructured.\n",
        "One of simple ways to introduce a network structure is to analyze\n",
        "correlations between variables and create correlation networks, which\n",
        "are widely used data mining method for studying biological networks (for\n",
        "example, biological networks) based on pairwise correlations between variables.\n",
        "Networks can be conveniently modeled by graphs, which we often refer\n",
        "to as a social graph. The individuals within a network are the nodes, and\n",
        "an edge connects two nodes if the nodes are related by the relationship that\n",
        "characterizes the network. The explosive growth of social media in recent\n",
        "years has attracted millions of end users, thus creating social graphs with\n",
        "millions of nodes and billions of edges reflecting the interactions and relationship between these nodes. Networks often exhibit community structure with inherent clusters. Detecting clusters or communities is one of the critical tasks in network analysis because of its broad applications to matters such as friend recommendations, link predictions and collaborative filtering in online social networks. From the graph theory perspective, clustering and community detection essentially are to discover a group of nodes in a graph that are more connected with each other within the group than those nodes outside the group. Given the size and complexity of todays’ networks, clustering and community detection in these networks face the inherent challenges. Communities (clusters) are essential to gain spatio-temporal inside into big datasets from networks. Spatial distances often describe the strength of network connectivity among communities (clusters) rather than individual\n",
        "nodes. As a result, good clustering results will enable us to capture key characteristics of datasets in networks. In this chapter, we discuss graph models of online social networks and clustering techniques. Although there exist many clustering algorithms such as k-means clustering, in this book we focus on spectral clustering analysis because our data from online social networks are graph-structured. Part of the materials in this chapter is based on the authors’ papers [226] on design and analysis of influenza-like illness in USA.\n",
        "\n"
      ],
      "metadata": {
        "id": "bJ9wUG2eEx6l"
      }
    },
    {
      "cell_type": "markdown",
      "source": [
        "## **4.1.1 Graph Models**\n",
        "\n",
        "In this section, we briefly review some of the common notation used in graphs.\n",
        "Any graph consists of both a set of objects, called nodes, and the connections\n",
        "between these nodes, called edges. Mathematically, a graph G is denoted as\n",
        "pair $G(V,E)$, where $V = \\{ v_1,v_2, ...v_n \\}$ represents the set of nodes and $E = \\{ e_1,e_2, ...,e_m \\}$ represents the set of edges and the size of the set is commonly shown as $m = |E|$. Edges are also represented by their endpoints (nodes), so\n",
        "$e(v_1,v_2)$ or $(v_1,v_2)$ defines an edge between nodes $v_1$ and $v_2$. Edges can have directions if one node is connected to another, but not vice versa. When edges have directions, $e(v_1,v_2)$ is not the same as $e(v_2,v_1)$. When edges are undirected, nodes are connected both ways and are called undirected edges and this kind of graph is called an undirected graph. Graphs that only have directed edges are called directed graphs and ones that only have undirected edges are called undirected graphs. Finally, mixed graphs have both directed and undirected edges. A sequence of edges where nodes and edges are distinct, $e_1(v_1,v_2),e_2(v_2,v_3), e_3(v_3,v_4), ...,e_i(v_i,v_{i+1})$, is called a path. A closed path is called a cycle. The length of a path or cycle is the number of edges traversed in the path or cycle. In a directed graph, we only count directed paths because traversal of edges is only allowed in the direction of the edges. For a connected graph, multiple paths can exist between any pair of nodes. Often, we are interested in the path that has the shortest length. This path is called the shortest path. We will also use the shortest path as distance for modeling on networks. The concept of the neighborhood of a node $v_i$ can be generalized using shortest paths. An $n$-hop neighborhood of node $v_i$ is the set of nodes that are within $n$ hops distance from the node $v_i$. The degree of a node in a graph, which is the number of edges connected to the node, plays a significant role in the study of graphs. For a directed graph, there are two types of degrees 1) in-degrees (edges toward the node) and 2) out-degrees (edges away from the node). In a network, nodes with the most connections possess the greatest degree of centrality. Degree centrality measures relative levels of importance. We often regard people with many interpersonal connections to be more important than those with few. In-degree centrality describes the popularity of a node and its prominence or prestige. Out-degree centrality describes the gregariousness of the node. For social media, degree represents the number of friends for each given user. On Facebook, a degree represents the number of friends. For Twitter, in-degree and out-degree show the number of followers and followees respectively."
      ],
      "metadata": {
        "id": "QsgapDUdJIGC"
      }
    },
    {
      "cell_type": "markdown",
      "source": [
        "## **4.1.2 Laplacian Matrix**\n",
        "\n",
        "A graph with $n$ nodes can be represented by a $n×n$ adjacency matrix. A\n",
        "value of 1 at row $i$, column $j$ in the adjacency matrix indicates a connection\n",
        "between nodes $v_i$ and $v_j$, and a value of 0 denotes no connection between\n",
        "the two nodes. When generalized, any real number can be used to show the\n",
        "strength of connection between two nodes. In directed graphs, we can have\n",
        "two edges between $i$ and $j$ (one from $i$ to $j$ and one from $j$ to $i$), whereas in undirected graphs only one edge can exist. As a result, the adjacency matrix for directed graphs is not in general symmetric, whereas the adjacency matrix for undirected graphs is symmetric $(A = A^T$). In social media, there are many directed and undirected networks. For instance, Facebook is an undirected network and Twitter is a directed network.\n",
        "Consider a weighted graph $G = (V,E)$ with $n$ vertices and $m$ edges each\n",
        "with weights $E_{i, j}$ connecting nodes $i, j$. The adjacency of matrix $M$ of a graph is defined by $M_{ij} = E_{ij}$ if there is an edge $\\{i, j\\}$ and $M_{ij} = 0$, otherwise. The Laplacian matrix $L$ of G is an $n$ by $n$ symmetric matrix, with one row and\n",
        "column for each vertex, such that\n",
        "\n",
        "\\begin{equation}\n",
        "  L=\\begin{cases}\n",
        "    1, \\hspace{5.5 cm} \\text{if $x<0$}.\\\\\n",
        "    -E_{ij}, i \\neq j, \\text{and} \\hspace{1mm}v_i \\hspace{1mm} \\text{is adjacent to} \\hspace{1mm} v_j, \\\\\n",
        "    0, \\hspace{5.0 cm} \\text{otherwise}.\n",
        "  \\end{cases}\n",
        "\\end{equation}\n",
        "\n",
        "In addition, a $n$ x $m$ incidence matrix of $G$, denoted by $I_G$ has one row per vertex and one column per edge. The column corresponding to edge $\\{i, j \\}$ of $I_G$ is zero except the $i$-th and $j$-th entries, which are $\\sqrt{E_{ij}}$ and $-\\sqrt{E_{ij}}$. respectively. Adjacent matrix can effectively describe a graph as demonstrated\n",
        "in the following two examples.\n",
        "Example 4.1.1 Given a graph in Figure 4.1, its adjacency matrix is\n",
        "\n",
        "$$A = \\begin{pmatrix}\n",
        "    0 & 1 & 0 \\\\\n",
        "    1 & 0 & 1 \\\\\n",
        "    0 & 1 & 0 \\\\\n",
        "\\end{pmatrix}\n",
        "$$\n",
        "We wish to use a vector c to describe the significance of each node by multiplying the corresponding degree of each node.\n",
        "\n",
        "$$\\lambda c = Ac$$,\n",
        "\n",
        "which is\n",
        "\n",
        "$$(A - \\lambda I)c = 0.$$\n",
        "\n",
        "Assuming that $c = [u_1 u_2 u_3]^T$,\n",
        "\n",
        "$$A = \\begin{pmatrix}\n",
        "    0 - \\lambda & 1 & 0 \\\\\n",
        "    1 & 0 - \\lambda & 1 \\\\\n",
        "    0 & 1 & 0 - \\lambda \\\\\n",
        "\\end{pmatrix}\n",
        " \\begin{pmatrix}\n",
        "    u_1 \\\\\n",
        "    u_2 \\\\\n",
        "    u_3 \\\\\n",
        "\\end{pmatrix} =\n",
        "\\begin{pmatrix}\n",
        "    0 \\\\\n",
        "    0 \\\\\n",
        "    0 \\\\\n",
        "\\end{pmatrix}\n",
        "$$\n"
      ],
      "metadata": {
        "id": "VhTuU5s5Ncxa"
      }
    }
  ]
}